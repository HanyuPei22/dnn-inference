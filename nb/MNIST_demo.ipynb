{
 "cells": [
  {
   "cell_type": "markdown",
   "metadata": {},
   "source": [
    "## ``.sig_test.split_test`` in MNIST dataset"
   ]
  },
  {
   "cell_type": "code",
   "execution_count": 2,
   "metadata": {},
   "outputs": [],
   "source": [
    "import numpy as np\n",
    "from tensorflow import keras\n",
    "from tensorflow.keras.datasets import mnist\n",
    "from tensorflow.keras.models import Sequential\n",
    "from tensorflow.keras.layers import Dense, Dropout, Flatten, Conv2D, MaxPooling2D\n",
    "from tensorflow.python.keras import backend as K\n",
    "import time\n",
    "from sklearn.model_selection import train_test_split\n",
    "from tensorflow.keras.optimizers import Adam, SGD"
   ]
  },
  {
   "cell_type": "code",
   "execution_count": 4,
   "metadata": {},
   "outputs": [],
   "source": [
    "np.random.seed(0)\n",
    "num_classes = 2\n",
    "# input image dimensions\n",
    "img_rows, img_cols = 28, 28\n",
    "\n",
    "# the data, split between train and test sets\n",
    "(x_train, y_train), (x_test, y_test) = mnist.load_data()\n",
    "X = np.vstack((x_train, x_test))\n",
    "y = np.hstack((y_train, y_test))\n",
    "ind = (y == 9) + (y == 7)\n",
    "X, y = X[ind], y[ind]\n",
    "X = X.astype('float32')\n",
    "X += .01*abs(np.random.randn(14251, 28, 28))\n",
    "y[y==7], y[y==9] = 0, 1\n",
    "\n",
    "if K.image_data_format() == 'channels_first':\n",
    "\tX = X.reshape(x.shape[0], 1, img_rows, img_cols)\n",
    "\tinput_shape = (1, img_rows, img_cols)\n",
    "else:\n",
    "\tX = X.reshape(X.shape[0], img_rows, img_cols, 1)\n",
    "\tinput_shape = (img_rows, img_cols, 1)\n",
    "\n",
    "X /= 255.\n",
    "\n",
    "# convert class vectors to binary class matrices\n",
    "y = keras.utils.to_categorical(y, num_classes)"
   ]
  },
  {
   "cell_type": "code",
   "execution_count": 5,
   "metadata": {
    "scrolled": true
   },
   "outputs": [
    {
     "name": "stderr",
     "output_type": "stream",
     "text": [
      "2022-06-29 16:58:55.239237: I tensorflow/stream_executor/cuda/cuda_gpu_executor.cc:936] successful NUMA node read from SysFS had negative value (-1), but there must be at least one NUMA node, so returning NUMA node zero\n",
      "2022-06-29 16:58:55.243474: I tensorflow/stream_executor/cuda/cuda_gpu_executor.cc:936] successful NUMA node read from SysFS had negative value (-1), but there must be at least one NUMA node, so returning NUMA node zero\n",
      "2022-06-29 16:58:55.243767: I tensorflow/stream_executor/cuda/cuda_gpu_executor.cc:936] successful NUMA node read from SysFS had negative value (-1), but there must be at least one NUMA node, so returning NUMA node zero\n",
      "2022-06-29 16:58:55.244460: I tensorflow/core/platform/cpu_feature_guard.cc:151] This TensorFlow binary is optimized with oneAPI Deep Neural Network Library (oneDNN) to use the following CPU instructions in performance-critical operations:  AVX2 AVX512F FMA\n",
      "To enable them in other operations, rebuild TensorFlow with the appropriate compiler flags.\n",
      "2022-06-29 16:58:55.245170: I tensorflow/stream_executor/cuda/cuda_gpu_executor.cc:936] successful NUMA node read from SysFS had negative value (-1), but there must be at least one NUMA node, so returning NUMA node zero\n",
      "2022-06-29 16:58:55.245475: I tensorflow/stream_executor/cuda/cuda_gpu_executor.cc:936] successful NUMA node read from SysFS had negative value (-1), but there must be at least one NUMA node, so returning NUMA node zero\n",
      "2022-06-29 16:58:55.245750: I tensorflow/stream_executor/cuda/cuda_gpu_executor.cc:936] successful NUMA node read from SysFS had negative value (-1), but there must be at least one NUMA node, so returning NUMA node zero\n",
      "2022-06-29 16:58:55.623115: I tensorflow/stream_executor/cuda/cuda_gpu_executor.cc:936] successful NUMA node read from SysFS had negative value (-1), but there must be at least one NUMA node, so returning NUMA node zero\n",
      "2022-06-29 16:58:55.623425: I tensorflow/stream_executor/cuda/cuda_gpu_executor.cc:936] successful NUMA node read from SysFS had negative value (-1), but there must be at least one NUMA node, so returning NUMA node zero\n",
      "2022-06-29 16:58:55.623674: I tensorflow/stream_executor/cuda/cuda_gpu_executor.cc:936] successful NUMA node read from SysFS had negative value (-1), but there must be at least one NUMA node, so returning NUMA node zero\n",
      "2022-06-29 16:58:55.623925: I tensorflow/core/common_runtime/gpu/gpu_device.cc:1525] Created device /job:localhost/replica:0/task:0/device:GPU:0 with 3763 MB memory:  -> device: 0, name: NVIDIA GeForce RTX 2060, pci bus id: 0000:01:00.0, compute capability: 7.5\n"
     ]
    }
   ],
   "source": [
    "## define the learning models\n",
    "def cnn():\n",
    "\tmodel = Sequential()\n",
    "\tmodel.add(Conv2D(32, kernel_size=(3, 3), activation='relu', input_shape=input_shape))\n",
    "\tmodel.add(Conv2D(64, (3, 3), activation='relu'))\n",
    "\tmodel.add(MaxPooling2D(pool_size=(2, 2)))\n",
    "\tmodel.add(Dropout(0.25))\n",
    "\tmodel.add(Flatten())\n",
    "\tmodel.add(Dense(128, activation='relu'))\n",
    "\tmodel.add(Dropout(0.5))\n",
    "\tmodel.add(Dense(num_classes, activation='softmax'))\n",
    "\tmodel.compile(loss=keras.losses.binary_crossentropy, optimizer=keras.optimizers.Adam(0.0005), metrics=['accuracy'])\n",
    "\treturn model\n",
    "\n",
    "model_null, model_alter = cnn(), cnn()"
   ]
  },
  {
   "cell_type": "code",
   "execution_count": 6,
   "metadata": {},
   "outputs": [],
   "source": [
    "## fitting param\n",
    "from tensorflow.keras.callbacks import EarlyStopping\n",
    "es = EarlyStopping(monitor='val_accuracy', mode='max', verbose=0, patience=15, restore_best_weights=True)\n",
    "\n",
    "fit_params = {'callbacks': [es],\n",
    "            'epochs': 50,\n",
    "            'batch_size': 32,\n",
    "            'validation_split': .2,\n",
    "            'verbose': 0}\n",
    "\n",
    "## testing params\n",
    "test_params = { 'split': \"one-split\",\n",
    "                'inf_ratio': None,\n",
    "                'perturb': None,\n",
    "                'cv_num': 2,\n",
    "                'cp': 'hommel',\n",
    "                'verbose': 2}\n",
    "\n",
    "## tuning params\n",
    "tune_params = { 'num_perm': 100,\n",
    "                'ratio_grid': [.2, .4, .6, .8],\n",
    "                'if_reverse': 0,\n",
    "                'perturb_range': 2.**np.arange(-3,3,.1),\n",
    "                'tune_ratio_method': 'fuse',\n",
    "                'tune_pb_method': 'fuse',\n",
    "                'cv_num': 2,\n",
    "                'cp': 'hommel',\n",
    "                'verbose': 2}"
   ]
  },
  {
   "cell_type": "code",
   "execution_count": 7,
   "metadata": {
    "scrolled": true
   },
   "outputs": [
    {
     "name": "stdout",
     "output_type": "stream",
     "text": [
      "INFO:tensorflow:Assets written to: ./saved/split_test/06-29_16-59/model_null_init/assets\n"
     ]
    },
    {
     "name": "stderr",
     "output_type": "stream",
     "text": [
      "2022-06-29 16:59:00.569380: W tensorflow/python/util/util.cc:368] Sets are not currently considered sequences, but this may change in the future, so consider avoiding using them.\n"
     ]
    },
    {
     "name": "stdout",
     "output_type": "stream",
     "text": [
      "INFO:tensorflow:Assets written to: ./saved/split_test/06-29_16-59/model_alter_init/assets\n",
      "====================== one-split for 0-th Hypothesis =======================\n"
     ]
    },
    {
     "name": "stderr",
     "output_type": "stream",
     "text": [
      "2022-06-29 16:59:02.617064: I tensorflow/stream_executor/cuda/cuda_dnn.cc:368] Loaded cuDNN version 8101\n"
     ]
    },
    {
     "name": "stdout",
     "output_type": "stream",
     "text": [
      "(tuneHP: ratio) Est. Type 1 error: 0.000; inf sample ratio: 0.200\n",
      "✅ (tuneHP: ratio) Done with inf sample ratio: 0.200\n",
      "(tuneHP: pb) Est. Type 1 error: 0.020; perturbation level: 0.125\n",
      "✅ (tuneHP: pb) Done with inf pb level: 0.125\n",
      "cv: 0; p_value: 0.26510; loss_null: 0.00140(0.03744); loss_alter: 0.00175(0.04185)\n",
      "cv: 1; p_value: 0.68497; loss_null: 0.00211(0.04583); loss_alter: 0.00175(0.04185)\n",
      " 🧪 0-th Hypothesis: accept H0 with p_value: 0.795\n",
      "====================== one-split for 1-th Hypothesis =======================\n",
      "(tuneHP: ratio) Est. Type 1 error: 0.000; inf sample ratio: 0.200\n",
      "✅ (tuneHP: ratio) Done with inf sample ratio: 0.200\n",
      "(tuneHP: pb) Est. Type 1 error: 0.000; perturbation level: 0.125\n",
      "✅ (tuneHP: pb) Done with inf pb level: 0.125\n",
      "cv: 0; p_value: 0.16398; loss_null: 0.00140(0.03744); loss_alter: 0.00211(0.04583)\n",
      "cv: 1; p_value: 0.92602; loss_null: 0.00316(0.05611); loss_alter: 0.00175(0.04185)\n",
      " 🧪 1-th Hypothesis: accept H0 with p_value: 0.492\n",
      "====================== one-split for 2-th Hypothesis =======================\n",
      "(tuneHP: ratio) Est. Type 1 error: 0.020; inf sample ratio: 0.200\n",
      "✅ (tuneHP: ratio) Done with inf sample ratio: 0.200\n",
      "(tuneHP: pb) Est. Type 1 error: 0.100; perturbation level: 0.125\n",
      "(tuneHP: pb) Est. Type 1 error: 0.110; perturbation level: 0.134\n",
      "(tuneHP: pb) Est. Type 1 error: 0.130; perturbation level: 0.144\n",
      "(tuneHP: pb) Est. Type 1 error: 0.100; perturbation level: 0.154\n",
      "(tuneHP: pb) Est. Type 1 error: 0.090; perturbation level: 0.165\n",
      "(tuneHP: pb) Est. Type 1 error: 0.120; perturbation level: 0.177\n",
      "(tuneHP: pb) Est. Type 1 error: 0.120; perturbation level: 0.189\n",
      "(tuneHP: pb) Est. Type 1 error: 0.120; perturbation level: 0.203\n",
      "(tuneHP: pb) Est. Type 1 error: 0.110; perturbation level: 0.218\n",
      "(tuneHP: pb) Est. Type 1 error: 0.110; perturbation level: 0.233\n",
      "(tuneHP: pb) Est. Type 1 error: 0.150; perturbation level: 0.250\n",
      "(tuneHP: pb) Est. Type 1 error: 0.130; perturbation level: 0.268\n",
      "(tuneHP: pb) Est. Type 1 error: 0.100; perturbation level: 0.287\n",
      "(tuneHP: pb) Est. Type 1 error: 0.120; perturbation level: 0.308\n",
      "(tuneHP: pb) Est. Type 1 error: 0.090; perturbation level: 0.330\n",
      "(tuneHP: pb) Est. Type 1 error: 0.060; perturbation level: 0.354\n",
      "(tuneHP: pb) Est. Type 1 error: 0.070; perturbation level: 0.379\n",
      "(tuneHP: pb) Est. Type 1 error: 0.040; perturbation level: 0.406\n",
      "✅ (tuneHP: pb) Done with inf pb level: 0.406\n",
      "cv: 0; p_value: 0.00000; loss_null: 0.00246(0.04950); loss_alter: 0.03088(0.17298)\n",
      "cv: 1; p_value: 0.00000; loss_null: 0.00175(0.04185); loss_alter: 0.03298(0.17859)\n",
      " 🧪 2-th Hypothesis: reject H0 with p_value: 0.000\n"
     ]
    }
   ],
   "source": [
    "## Inference based on dnn_inference\n",
    "from sig_test import split_test\n",
    "## testing based on learning models\n",
    "inf_feats = [[np.arange(19,28), np.arange(13,20)], [np.arange(21,28), np.arange(4, 13)],[np.arange(7,16), np.arange(9,16)]]\n",
    "cue = split_test(inf_feats=inf_feats, model_null=model_null, model_alter=model_alter, eva_metric='zero-one')\n",
    "P_value = cue.testing(X, y, fit_params, test_params, tune_params)"
   ]
  },
  {
   "cell_type": "code",
   "execution_count": null,
   "metadata": {},
   "outputs": [],
   "source": [
    "## visualize testing results\n",
    "cue.visual(X,y)\n",
    "print('P-values: %s' %p_value_tmp)"
   ]
  }
 ],
 "metadata": {
  "kernelspec": {
   "display_name": "tf",
   "language": "python",
   "name": "tf"
  },
  "language_info": {
   "codemirror_mode": {
    "name": "ipython",
    "version": 3
   },
   "file_extension": ".py",
   "mimetype": "text/x-python",
   "name": "python",
   "nbconvert_exporter": "python",
   "pygments_lexer": "ipython3",
   "version": "3.10.4"
  }
 },
 "nbformat": 4,
 "nbformat_minor": 4
}
