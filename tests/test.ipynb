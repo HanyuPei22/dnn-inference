#%%

print('this is a test')

#%% 

print('test is good.')