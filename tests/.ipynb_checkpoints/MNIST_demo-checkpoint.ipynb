{
 "cells": [
  {
   "cell_type": "markdown",
   "metadata": {},
   "source": [
    "## ``.BBoxTest.split_test`` in MNIST dataset"
   ]
  },
  {
   "cell_type": "code",
   "execution_count": 1,
   "metadata": {},
   "outputs": [],
   "source": [
    "import numpy as np\n",
    "from tensorflow import keras\n",
    "from tensorflow.keras.datasets import mnist\n",
    "from tensorflow.keras.models import Sequential\n",
    "from tensorflow.keras.layers import Dense, Dropout, Flatten, Conv2D, MaxPooling2D\n",
    "from tensorflow.python.keras import backend as K\n",
    "import time\n",
    "from sklearn.model_selection import train_test_split\n",
    "from tensorflow.keras.optimizers import Adam, SGD"
   ]
  },
  {
   "cell_type": "code",
   "execution_count": 2,
   "metadata": {},
   "outputs": [],
   "source": [
    "np.random.seed(0)\n",
    "num_classes = 2\n",
    "# input image dimensions\n",
    "img_rows, img_cols = 28, 28\n",
    "\n",
    "# the data, split between train and test sets\n",
    "(x_train, y_train), (x_test, y_test) = mnist.load_data()\n",
    "X = np.vstack((x_train, x_test))\n",
    "y = np.hstack((y_train, y_test))\n",
    "ind = (y == 9) + (y == 7)\n",
    "X, y = X[ind], y[ind]\n",
    "X = X.astype('float32')\n",
    "X += .01*abs(np.random.randn(14251, 28, 28))\n",
    "y[y==7], y[y==9] = 0, 1\n",
    "\n",
    "if K.image_data_format() == 'channels_first':\n",
    "\tX = X.reshape(x.shape[0], 1, img_rows, img_cols)\n",
    "\tinput_shape = (1, img_rows, img_cols)\n",
    "else:\n",
    "\tX = X.reshape(X.shape[0], img_rows, img_cols, 1)\n",
    "\tinput_shape = (img_rows, img_cols, 1)\n",
    "\n",
    "X /= 255.\n",
    "\n",
    "# convert class vectors to binary class matrices\n",
    "y = keras.utils.to_categorical(y, num_classes)"
   ]
  },
  {
   "cell_type": "code",
   "execution_count": 3,
   "metadata": {},
   "outputs": [
    {
     "name": "stderr",
     "output_type": "stream",
     "text": [
      "2021-12-15 17:08:01.419895: I tensorflow/stream_executor/cuda/cuda_gpu_executor.cc:939] successful NUMA node read from SysFS had negative value (-1), but there must be at least one NUMA node, so returning NUMA node zero\n",
      "2021-12-15 17:08:01.424373: I tensorflow/stream_executor/cuda/cuda_gpu_executor.cc:939] successful NUMA node read from SysFS had negative value (-1), but there must be at least one NUMA node, so returning NUMA node zero\n",
      "2021-12-15 17:08:01.424661: I tensorflow/stream_executor/cuda/cuda_gpu_executor.cc:939] successful NUMA node read from SysFS had negative value (-1), but there must be at least one NUMA node, so returning NUMA node zero\n",
      "2021-12-15 17:08:01.425286: I tensorflow/core/platform/cpu_feature_guard.cc:151] This TensorFlow binary is optimized with oneAPI Deep Neural Network Library (oneDNN) to use the following CPU instructions in performance-critical operations:  AVX2 AVX512F FMA\n",
      "To enable them in other operations, rebuild TensorFlow with the appropriate compiler flags.\n",
      "2021-12-15 17:08:01.425734: I tensorflow/stream_executor/cuda/cuda_gpu_executor.cc:939] successful NUMA node read from SysFS had negative value (-1), but there must be at least one NUMA node, so returning NUMA node zero\n",
      "2021-12-15 17:08:01.426031: I tensorflow/stream_executor/cuda/cuda_gpu_executor.cc:939] successful NUMA node read from SysFS had negative value (-1), but there must be at least one NUMA node, so returning NUMA node zero\n",
      "2021-12-15 17:08:01.426295: I tensorflow/stream_executor/cuda/cuda_gpu_executor.cc:939] successful NUMA node read from SysFS had negative value (-1), but there must be at least one NUMA node, so returning NUMA node zero\n",
      "2021-12-15 17:08:01.748051: I tensorflow/stream_executor/cuda/cuda_gpu_executor.cc:939] successful NUMA node read from SysFS had negative value (-1), but there must be at least one NUMA node, so returning NUMA node zero\n",
      "2021-12-15 17:08:01.748342: I tensorflow/stream_executor/cuda/cuda_gpu_executor.cc:939] successful NUMA node read from SysFS had negative value (-1), but there must be at least one NUMA node, so returning NUMA node zero\n",
      "2021-12-15 17:08:01.748581: I tensorflow/stream_executor/cuda/cuda_gpu_executor.cc:939] successful NUMA node read from SysFS had negative value (-1), but there must be at least one NUMA node, so returning NUMA node zero\n",
      "2021-12-15 17:08:01.748832: I tensorflow/core/common_runtime/gpu/gpu_device.cc:1525] Created device /job:localhost/replica:0/task:0/device:GPU:0 with 3650 MB memory:  -> device: 0, name: NVIDIA GeForce RTX 2060, pci bus id: 0000:01:00.0, compute capability: 7.5\n"
     ]
    }
   ],
   "source": [
    "## define the learning models\n",
    "def cnn():\n",
    "\tmodel = Sequential()\n",
    "\tmodel.add(Conv2D(32, kernel_size=(3, 3), activation='relu', input_shape=input_shape))\n",
    "\tmodel.add(Conv2D(64, (3, 3), activation='relu'))\n",
    "\tmodel.add(MaxPooling2D(pool_size=(2, 2)))\n",
    "\tmodel.add(Dropout(0.25))\n",
    "\tmodel.add(Flatten())\n",
    "\tmodel.add(Dense(128, activation='relu'))\n",
    "\tmodel.add(Dropout(0.5))\n",
    "\tmodel.add(Dense(num_classes, activation='softmax'))\n",
    "\tmodel.compile(loss=keras.losses.binary_crossentropy, optimizer=keras.optimizers.Adam(0.0005), metrics=['accuracy'])\n",
    "\treturn model\n",
    "\n",
    "model, model_mask = cnn(), cnn()"
   ]
  },
  {
   "cell_type": "code",
   "execution_count": 4,
   "metadata": {},
   "outputs": [],
   "source": [
    "## fitting param\n",
    "from tensorflow.keras.callbacks import EarlyStopping\n",
    "es = EarlyStopping(monitor='val_accuracy', mode='max', verbose=0, patience=15, restore_best_weights=True)\n",
    "\n",
    "fit_params = {'callbacks': [es],\n",
    "\t\t\t  'epochs': 5,\n",
    "\t\t\t  'batch_size': 32,\n",
    "\t\t\t  'validation_split': .2,\n",
    "\t\t\t  'verbose': 0}\n",
    "\n",
    "split_params = {'split': 'one-split',\n",
    "\t\t\t\t'perturb': None,\n",
    "\t\t\t\t'num_perm': 100,\n",
    "\t\t\t\t'ratio_grid': [.2, .4, .6, .8],\n",
    "\t\t\t\t'perturb_scale': 5,\n",
    "\t\t\t\t'min_inf': 100,\n",
    "\t\t\t\t'min_est': 1000,\n",
    "\t\t\t\t'ratio_method': 'fuse',\n",
    "\t\t\t\t'verbose': 1}"
   ]
  },
  {
   "cell_type": "code",
   "execution_count": 5,
   "metadata": {
    "scrolled": true
   },
   "outputs": [
    {
     "name": "stderr",
     "output_type": "stream",
     "text": [
      "2021-12-15 17:08:06.520019: W tensorflow/python/util/util.cc:368] Sets are not currently considered sequences, but this may change in the future, so consider avoiding using them.\n"
     ]
    },
    {
     "name": "stdout",
     "output_type": "stream",
     "text": [
      "INFO:tensorflow:Assets written to: ./splitTest_checkpoints/model_init/assets\n",
      "INFO:tensorflow:Assets written to: ./splitTest_checkpoints/model_mask_init/assets\n"
     ]
    },
    {
     "name": "stderr",
     "output_type": "stream",
     "text": [
      "2021-12-15 17:08:08.306098: I tensorflow/stream_executor/cuda/cuda_dnn.cc:366] Loaded cuDNN version 8101\n"
     ]
    },
    {
     "name": "stdout",
     "output_type": "stream",
     "text": [
      "(AdaRatio) Est. Type 1 err: 0.000; p_value_mean: 1.000, inf sample ratio: 0.200, perturb_level: 0.03125\n",
      "0-th inference; Adaptive data splitting: n: 11401; m: 2850; perturb: 0.03125\n",
      "cv: 0; p_value: 0.70340; metric: 0.00596(0.07700); metric_mask: 0.00526(0.07236)\n",
      "cv: 1; p_value: 0.15818; metric: 0.00316(0.05611); metric_mask: 0.00421(0.06475)\n",
      "cv: 2; p_value: 0.65843; metric: 0.00421(0.06475); metric_mask: 0.00386(0.06201)\n",
      "##################################################\n",
      "0-th inf: accept H0 with p_value: 0.870\n",
      "##################################################\n",
      "(AdaRatio) Est. Type 1 err: 0.000; p_value_mean: 0.285, inf sample ratio: 0.200, perturb_level: 0.03125\n",
      "1-th inference; Adaptive data splitting: n: 11401; m: 2850; perturb: 0.03125\n",
      "cv: 0; p_value: 0.99794; metric: 0.00877(0.09325); metric_mask: 0.00456(0.06738)\n",
      "cv: 1; p_value: 0.99493; metric: 0.00526(0.07236); metric_mask: 0.00246(0.04950)\n",
      "cv: 2; p_value: 0.48620; metric: 0.00456(0.06738); metric_mask: 0.00456(0.06738)\n",
      "##################################################\n",
      "1-th inf: accept H0 with p_value: 1.000\n",
      "##################################################\n",
      "(AdaRatio) Est. Type 1 err: 0.000; p_value_mean: 1.000, inf sample ratio: 0.200, perturb_level: 0.03125\n",
      "2-th inference; Adaptive data splitting: n: 11401; m: 2850; perturb: 0.03125\n",
      "cv: 0; p_value: 0.00000; metric: 0.00561(0.07472); metric_mask: 0.03263(0.17767)\n",
      "cv: 1; p_value: 0.00000; metric: 0.00386(0.06201); metric_mask: 0.03579(0.18576)\n",
      "cv: 2; p_value: 0.00000; metric: 0.00386(0.06201); metric_mask: 0.02772(0.16417)\n",
      "##################################################\n",
      "2-th inf: reject H0 with p_value: 0.000\n",
      "##################################################\n"
     ]
    },
    {
     "data": {
      "image/png": "[encoded data removed]",
      "text/plain": [
       "<Figure size 432x288 with 6 Axes>"
      ]
     },
     "metadata": {
      "needs_background": "light"
     },
     "output_type": "display_data"
    },
    {
     "name": "stdout",
     "output_type": "stream",
     "text": [
      "P-values: [0.8700107750117116, 1.0, 1.7547220878806435e-20]\n"
     ]
    }
   ],
   "source": [
    "## Inference based on dnn_inference\n",
    "from dnn_inference.BBoxTest import split_test\n",
    "## testing based on learning models\n",
    "inf_feats = [[np.arange(19,28), np.arange(13,20)], [np.arange(21,28), np.arange(4, 13)],[np.arange(7,16), np.arange(9,16)]]\n",
    "cue = split_test(inf_feats=inf_feats, model=model, model_mask=model_mask, change='mask', eva_metric='zero-one')\n",
    "p_value_tmp = cue.testing(X, y, cv_num=3, cp='hommel', fit_params=fit_params, split_params=split_params)\n",
    "## visualize testing results\n",
    "cue.visual(X,y)\n",
    "print('P-values: %s' %p_value_tmp)"
   ]
  }
 ],
 "metadata": {
  "kernelspec": {
   "display_name": "tf",
   "language": "python",
   "name": "tf"
  },
  "language_info": {
   "codemirror_mode": {
    "name": "ipython",
    "version": 3
   },
   "file_extension": ".py",
   "mimetype": "text/x-python",
   "name": "python",
   "nbconvert_exporter": "python",
   "pygments_lexer": "ipython3",
   "version": "3.9.5"
  }
 },
 "nbformat": 4,
 "nbformat_minor": 4
}
