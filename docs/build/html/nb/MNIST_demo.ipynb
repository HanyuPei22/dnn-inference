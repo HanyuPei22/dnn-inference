{
 "cells": [
  {
   "cell_type": "markdown",
   "metadata": {},
   "source": [
    "## ``dnn-inference`` in MNIST dataset"
   ]
  },
  {
   "cell_type": "code",
   "execution_count": 1,
   "metadata": {},
   "outputs": [],
   "source": [
    "import sys\n",
    "sys.path.append('..')\n",
    "\n",
    "import numpy as np\n",
    "import keras\n",
    "from keras.datasets import mnist\n",
    "from keras.models import Sequential\n",
    "from keras.layers import Dense, Dropout, Flatten, Conv2D, MaxPooling2D\n",
    "from tensorflow.python.keras import backend as K\n",
    "import time\n",
    "from sklearn.model_selection import train_test_split\n",
    "from keras.optimizers import Adam, SGD"
   ]
  },
  {
   "cell_type": "code",
   "execution_count": 2,
   "metadata": {},
   "outputs": [],
   "source": [
    "np.random.seed(0)\n",
    "num_classes = 2\n",
    "# input image dimensions\n",
    "img_rows, img_cols = 28, 28\n",
    "\n",
    "# the data, split between train and test sets\n",
    "(x_train, y_train), (x_test, y_test) = mnist.load_data()\n",
    "X = np.vstack((x_train, x_test))\n",
    "y = np.hstack((y_train, y_test))\n",
    "ind = (y == 9) + (y == 7)\n",
    "X, y = X[ind], y[ind]\n",
    "X = X.astype('float32')\n",
    "X += .01*abs(np.random.randn(14251, 28, 28))\n",
    "y[y==7], y[y==9] = 0, 1\n",
    "\n",
    "if K.image_data_format() == 'channels_first':\n",
    "\tX = X.reshape(x.shape[0], 1, img_rows, img_cols)\n",
    "\tinput_shape = (1, img_rows, img_cols)\n",
    "else:\n",
    "\tX = X.reshape(X.shape[0], img_rows, img_cols, 1)\n",
    "\tinput_shape = (img_rows, img_cols, 1)\n",
    "\n",
    "X /= 255.\n",
    "\n",
    "# convert class vectors to binary class matrices\n",
    "y = keras.utils.to_categorical(y, num_classes)"
   ]
  },
  {
   "cell_type": "code",
   "execution_count": 3,
   "metadata": {},
   "outputs": [],
   "source": [
    "## define the learning models\n",
    "def cnn():\n",
    "\tmodel = Sequential()\n",
    "\tmodel.add(Conv2D(32, kernel_size=(3, 3), activation='relu', input_shape=input_shape))\n",
    "\tmodel.add(Conv2D(64, (3, 3), activation='relu'))\n",
    "\tmodel.add(MaxPooling2D(pool_size=(2, 2)))\n",
    "\tmodel.add(Dropout(0.25))\n",
    "\tmodel.add(Flatten())\n",
    "\tmodel.add(Dense(128, activation='relu'))\n",
    "\tmodel.add(Dropout(0.5))\n",
    "\tmodel.add(Dense(num_classes, activation='softmax'))\n",
    "\tmodel.compile(loss=keras.losses.binary_crossentropy, optimizer=keras.optimizers.Adam(0.0005), metrics=['accuracy'])\n",
    "\treturn model\n",
    "\n",
    "model, model_mask = cnn(), cnn()"
   ]
  },
  {
   "cell_type": "code",
   "execution_count": 11,
   "metadata": {},
   "outputs": [],
   "source": [
    "## fitting param\n",
    "from keras.callbacks import EarlyStopping\n",
    "es = EarlyStopping(monitor='val_accuracy', mode='max', verbose=0, patience=15, restore_best_weights=True)\n",
    "\n",
    "fit_params = {'callbacks': [es],\n",
    "\t\t\t  'epochs': 5,\n",
    "\t\t\t  'batch_size': 32,\n",
    "\t\t\t  'validation_split': .2,\n",
    "\t\t\t  'verbose': 0}\n",
    "\n",
    "split_params = {'split': 'one-split',\n",
    "\t\t\t\t'perturb': None,\n",
    "\t\t\t\t'num_perm': 100,\n",
    "\t\t\t\t'ratio_grid': [.2, .4, .6, .8],\n",
    "\t\t\t\t'perturb_grid': [.001, .005, .01, .05, .1],\n",
    "\t\t\t\t'min_inf': 100,\n",
    "\t\t\t\t'min_est': 1000,\n",
    "\t\t\t\t'ratio_method': 'fuse',\n",
    "\t\t\t\t'cv_num': 1,\n",
    "\t\t\t\t'cp': 'min',\n",
    "\t\t\t\t'verbose': 1}"
   ]
  },
  {
   "cell_type": "code",
   "execution_count": 12,
   "metadata": {
    "scrolled": true
   },
   "outputs": [
    {
     "name": "stdout",
     "output_type": "stream",
     "text": [
      "(AdaRatio) Est. Type 1 error: 0.000; p_value_mean: 0.555, inference sample ratio: 0.200, perturb: 0.001\n",
      "0-th inference; Adaptive data splitting: n: 11401; m: 2850; perturb: 0.001\n",
      "cv: 0; p_value: 0.164; diff: -0.001(0.056); metric: 0.003(0.056); metric_mask: 0.004(0.065)\n",
      "cv: 1; p_value: 0.494; diff: -0.000(0.046); metric: 0.002(0.046); metric_mask: 0.002(0.046)\n",
      "cv: 2; p_value: 0.639; diff: 0.000(0.050); metric: 0.002(0.049); metric_mask: 0.002(0.046)\n",
      "accept H0 with p_value: 0.901\n",
      "(AdaRatio) Est. Type 1 error: 0.000; p_value_mean: 0.649, inference sample ratio: 0.200, perturb: 0.001\n",
      "1-th inference; Adaptive data splitting: n: 11401; m: 2850; perturb: 0.001\n",
      "cv: 0; p_value: 0.173; diff: -0.001(0.062); metric: 0.004(0.059); metric_mask: 0.005(0.067)\n",
      "cv: 1; p_value: 0.128; diff: -0.001(0.050); metric: 0.002(0.046); metric_mask: 0.003(0.056)\n",
      "cv: 2; p_value: 0.212; diff: -0.001(0.046); metric: 0.002(0.042); metric_mask: 0.002(0.049)\n",
      "accept H0 with p_value: 0.389\n",
      "(AdaRatio) Est. Type 1 error: 0.000; p_value_mean: 0.993, inference sample ratio: 0.200, perturb: 0.001\n",
      "2-th inference; Adaptive data splitting: n: 11401; m: 2850; perturb: 0.001\n",
      "cv: 0; p_value: 0.000; diff: -0.025(0.166); metric: 0.002(0.049); metric_mask: 0.028(0.164)\n",
      "cv: 1; p_value: 0.000; diff: -0.025(0.168); metric: 0.002(0.046); metric_mask: 0.027(0.163)\n",
      "cv: 2; p_value: 0.000; diff: -0.023(0.156); metric: 0.002(0.049); metric_mask: 0.025(0.157)\n",
      "reject H0 with p_value: 0.000\n"
     ]
    },
    {
     "data": {
      "image/png": "[encoded data removed]",
      "text/plain": [
       "<Figure size 432x288 with 6 Axes>"
      ]
     },
     "metadata": {
      "needs_background": "light"
     },
     "output_type": "display_data"
    },
    {
     "name": "stdout",
     "output_type": "stream",
     "text": [
      "P-values: [0.9008369329524851, 0.38855124291861903, 1.0087345089116913e-15]\n"
     ]
    }
   ],
   "source": [
    "## Inference based on dnn_inference\n",
    "from dnn_inference import DnnT\n",
    "## testing based on learning models\n",
    "inf_feats = [[np.arange(19,28), np.arange(13,20)], [np.arange(21,28), np.arange(4, 13)],[np.arange(7,16), np.arange(9,16)]]\n",
    "shiing = DnnT(inf_cov=inf_feats, model=model, model_mask=model_mask, change='mask', eva_metric='zero-one')\n",
    "p_value_tmp = shiing.testing(X, y, cv_num=3, cp='hommel', fit_params=fit_params, split_params=split_params)\n",
    "## visualize testing results\n",
    "shiing.visual(X,y)\n",
    "print('P-values: %s' %p_value_tmp)"
   ]
  }
 ],
 "metadata": {
  "kernelspec": {
   "display_name": ".shiing",
   "language": "python",
   "name": ".shiing"
  },
  "language_info": {
   "codemirror_mode": {
    "name": "ipython",
    "version": 3
   },
   "file_extension": ".py",
   "mimetype": "text/x-python",
   "name": "python",
   "nbconvert_exporter": "python",
   "pygments_lexer": "ipython3",
   "version": "3.8.5"
  }
 },
 "nbformat": 4,
 "nbformat_minor": 4
}
